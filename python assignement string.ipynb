{
 "cells": [
  {
   "cell_type": "code",
   "execution_count": 5,
   "id": "8ac2cba3-9073-47b3-97d0-817350d09809",
   "metadata": {},
   "outputs": [
    {
     "ename": "SyntaxError",
     "evalue": "unmatched ')' (2835991415.py, line 1)",
     "output_type": "error",
     "traceback": [
      "\u001b[0;36m  Cell \u001b[0;32mIn[5], line 1\u001b[0;36m\u001b[0m\n\u001b[0;31m    1) we are using the variable any type for example 'A' , 'H', ...... so on assign variable then write the string in single quote\u001b[0m\n\u001b[0m     ^\u001b[0m\n\u001b[0;31mSyntaxError\u001b[0m\u001b[0;31m:\u001b[0m unmatched ')'\n"
     ]
    }
   ],
   "source": [
    "1) we are using the variable any type for example 'A' , 'H', ...... so on assign variable then write the string in single quote\n",
    "\n",
    "\n",
    "2) yes \n",
    "x = 'a'\n",
    "x is a character and also variable using the any type of  string that recgonize the thing  in a string\n",
    "\n",
    "3) A = ('Welcome to python foundation course')\n",
    "1) A.find('A')"
   ]
  },
  {
   "cell_type": "code",
   "execution_count": 8,
   "id": "e3dbdb1c-b63a-4970-9d81-3d847a3cf0bd",
   "metadata": {},
   "outputs": [
    {
     "data": {
      "text/plain": [
       "-1"
      ]
     },
     "execution_count": 8,
     "metadata": {},
     "output_type": "execute_result"
    }
   ],
   "source": [
    "A1 = 'Welcome to python foundation'\n",
    "A.find('A')\n",
    "\n",
    "\n"
   ]
  },
  {
   "cell_type": "code",
   "execution_count": 9,
   "id": "df654a98-a1b1-4218-aa68-bc37141d3ff2",
   "metadata": {},
   "outputs": [
    {
     "data": {
      "text/plain": [
       "1"
      ]
     },
     "execution_count": 9,
     "metadata": {},
     "output_type": "execute_result"
    }
   ],
   "source": [
    "A1 = 'Welcome to python foundation'\n",
    "A1.count('p') "
   ]
  },
  {
   "cell_type": "code",
   "execution_count": 10,
   "id": "c6797115-b4e8-4313-b37f-45dfb06c37ca",
   "metadata": {},
   "outputs": [
    {
     "data": {
      "text/plain": [
       "28"
      ]
     },
     "execution_count": 10,
     "metadata": {},
     "output_type": "execute_result"
    }
   ],
   "source": [
    "len(A1)"
   ]
  },
  {
   "cell_type": "code",
   "execution_count": null,
   "id": "55f2931a-824a-4923-9905-a83eb61da43a",
   "metadata": {},
   "outputs": [],
   "source": [
    "first = input('Welcome to python foundation')\n",
    "print (first)"
   ]
  },
  {
   "cell_type": "code",
   "execution_count": null,
   "id": "d0dddfa0-e692-448e-b511-95027020c0f6",
   "metadata": {},
   "outputs": [],
   "source": [
    "A1 = 'ShreyasPagar'\n",
    "A1.upper()"
   ]
  },
  {
   "cell_type": "code",
   "execution_count": null,
   "id": "b9299363-0292-4831-bed6-4c4333ef13a3",
   "metadata": {},
   "outputs": [],
   "source": [
    "2\n",
    "A1.lower()\n",
    "8\n"
   ]
  },
  {
   "cell_type": "code",
   "execution_count": null,
   "id": "2bbb02cd-c107-4255-a5b6-7eec5a1d102e",
   "metadata": {},
   "outputs": [],
   "source": [
    "def sum_of_all_no (s):\n",
    "    num = 0\n",
    "    sum = 0\n",
    "    for i in s:\n",
    "        if i . is digit():\n",
    "            num = num * 10 + int(i)\n",
    "            else:\n",
    "                sum = sum + num\n",
    "                num = 0\n",
    "                return sum + num\n",
    "            s = input (\"Ether Any String\")\n",
    "            print (sum_of__all_number(S))"
   ]
  },
  {
   "cell_type": "code",
   "execution_count": null,
   "id": "b8a86df5-b5d9-4e97-8dda-8b690f087ebb",
   "metadata": {},
   "outputs": [],
   "source": [
    "R1 = 'sandip2226'\n",
    "print.numerical()\n",
    "4\n"
   ]
  },
  {
   "cell_type": "code",
   "execution_count": null,
   "id": "a02fae75-91dc-4042-a55c-9020b5fab21e",
   "metadata": {},
   "outputs": [],
   "source": [
    "V = ('1','5','1','6')\n",
    "V.print(string)\n",
    "("
   ]
  },
  {
   "cell_type": "code",
   "execution_count": null,
   "id": "baac1199-7e20-425b-882a-f28ecafdc866",
   "metadata": {},
   "outputs": [],
   "source": []
  },
  {
   "cell_type": "code",
   "execution_count": null,
   "id": "1aa1de23-7ecc-4e98-bf75-1c5faf5560f6",
   "metadata": {},
   "outputs": [],
   "source": []
  },
  {
   "cell_type": "code",
   "execution_count": null,
   "id": "71c5433c-c163-4fca-8dd5-180b82f580e8",
   "metadata": {},
   "outputs": [],
   "source": []
  }
 ],
 "metadata": {
  "kernelspec": {
   "display_name": "Python 3 (ipykernel)",
   "language": "python",
   "name": "python3"
  },
  "language_info": {
   "codemirror_mode": {
    "name": "ipython",
    "version": 3
   },
   "file_extension": ".py",
   "mimetype": "text/x-python",
   "name": "python",
   "nbconvert_exporter": "python",
   "pygments_lexer": "ipython3",
   "version": "3.10.8"
  }
 },
 "nbformat": 4,
 "nbformat_minor": 5
}
